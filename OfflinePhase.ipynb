{
 "cells": [
  {
   "cell_type": "code",
   "execution_count": 1,
   "id": "modular-placement",
   "metadata": {},
   "outputs": [],
   "source": [
    "import math\n",
    "import numpy as np\n",
    "import pandas as pd\n",
    "import pickle\n",
    "from scipy.sparse import csr_matrix\n",
    "from scipy.sparse.linalg import norm\n",
    "from sklearn.neighbors import NearestNeighbors"
   ]
  },
  {
   "cell_type": "code",
   "execution_count": 2,
   "id": "caroline-tracy",
   "metadata": {},
   "outputs": [],
   "source": [
    "# GoodBooks-10K Data\n",
    "df_books = pd.read_csv('books.csv', usecols=['book_id', 'title'])\n",
    "df_ratings = pd.read_csv('ratings.csv', usecols=['user_id', 'book_id', 'rating'])"
   ]
  },
  {
   "cell_type": "code",
   "execution_count": 3,
   "id": "brown-formula",
   "metadata": {},
   "outputs": [
    {
     "name": "stdout",
     "output_type": "stream",
     "text": [
      "There are 53424 unique users and 10000 unique movies in this data set\n"
     ]
    }
   ],
   "source": [
    "num_users = len(df_ratings.user_id.unique())\n",
    "num_items = len(df_ratings.book_id.unique())\n",
    "print('There are {} unique users and {} unique movies in this data set'.format(num_users, num_items))"
   ]
  },
  {
   "cell_type": "code",
   "execution_count": 4,
   "id": "fatal-mongolia",
   "metadata": {},
   "outputs": [
    {
     "data": {
      "text/html": [
       "<div>\n",
       "<style scoped>\n",
       "    .dataframe tbody tr th:only-of-type {\n",
       "        vertical-align: middle;\n",
       "    }\n",
       "\n",
       "    .dataframe tbody tr th {\n",
       "        vertical-align: top;\n",
       "    }\n",
       "\n",
       "    .dataframe thead th {\n",
       "        text-align: right;\n",
       "    }\n",
       "</style>\n",
       "<table border=\"1\" class=\"dataframe\">\n",
       "  <thead>\n",
       "    <tr style=\"text-align: right;\">\n",
       "      <th></th>\n",
       "      <th>count</th>\n",
       "    </tr>\n",
       "    <tr>\n",
       "      <th>book_id</th>\n",
       "      <th></th>\n",
       "    </tr>\n",
       "  </thead>\n",
       "  <tbody>\n",
       "    <tr>\n",
       "      <th>1</th>\n",
       "      <td>22806</td>\n",
       "    </tr>\n",
       "    <tr>\n",
       "      <th>2</th>\n",
       "      <td>21850</td>\n",
       "    </tr>\n",
       "    <tr>\n",
       "      <th>3</th>\n",
       "      <td>16931</td>\n",
       "    </tr>\n",
       "    <tr>\n",
       "      <th>4</th>\n",
       "      <td>19088</td>\n",
       "    </tr>\n",
       "    <tr>\n",
       "      <th>5</th>\n",
       "      <td>16604</td>\n",
       "    </tr>\n",
       "    <tr>\n",
       "      <th>...</th>\n",
       "      <td>...</td>\n",
       "    </tr>\n",
       "    <tr>\n",
       "      <th>2996</th>\n",
       "      <td>435</td>\n",
       "    </tr>\n",
       "    <tr>\n",
       "      <th>2997</th>\n",
       "      <td>562</td>\n",
       "    </tr>\n",
       "    <tr>\n",
       "      <th>2998</th>\n",
       "      <td>459</td>\n",
       "    </tr>\n",
       "    <tr>\n",
       "      <th>2999</th>\n",
       "      <td>483</td>\n",
       "    </tr>\n",
       "    <tr>\n",
       "      <th>3000</th>\n",
       "      <td>676</td>\n",
       "    </tr>\n",
       "  </tbody>\n",
       "</table>\n",
       "<p>3000 rows × 1 columns</p>\n",
       "</div>"
      ],
      "text/plain": [
       "         count\n",
       "book_id       \n",
       "1        22806\n",
       "2        21850\n",
       "3        16931\n",
       "4        19088\n",
       "5        16604\n",
       "...        ...\n",
       "2996       435\n",
       "2997       562\n",
       "2998       459\n",
       "2999       483\n",
       "3000       676\n",
       "\n",
       "[3000 rows x 1 columns]"
      ]
     },
     "execution_count": 4,
     "metadata": {},
     "output_type": "execute_result"
    }
   ],
   "source": [
    "# get rating frequency\n",
    "df_books_cnt = pd.DataFrame(df_ratings.groupby('book_id').size(), columns=['count'])\n",
    "df_books_cnt.head(3000)"
   ]
  },
  {
   "cell_type": "code",
   "execution_count": 5,
   "id": "burning-indiana",
   "metadata": {},
   "outputs": [
    {
     "data": {
      "text/html": [
       "<div>\n",
       "<style scoped>\n",
       "    .dataframe tbody tr th:only-of-type {\n",
       "        vertical-align: middle;\n",
       "    }\n",
       "\n",
       "    .dataframe tbody tr th {\n",
       "        vertical-align: top;\n",
       "    }\n",
       "\n",
       "    .dataframe thead th {\n",
       "        text-align: right;\n",
       "    }\n",
       "</style>\n",
       "<table border=\"1\" class=\"dataframe\">\n",
       "  <thead>\n",
       "    <tr style=\"text-align: right;\">\n",
       "      <th></th>\n",
       "      <th>count</th>\n",
       "    </tr>\n",
       "    <tr>\n",
       "      <th>rating</th>\n",
       "      <th></th>\n",
       "    </tr>\n",
       "  </thead>\n",
       "  <tbody>\n",
       "    <tr>\n",
       "      <th>1</th>\n",
       "      <td>124195</td>\n",
       "    </tr>\n",
       "    <tr>\n",
       "      <th>2</th>\n",
       "      <td>359257</td>\n",
       "    </tr>\n",
       "    <tr>\n",
       "      <th>3</th>\n",
       "      <td>1370916</td>\n",
       "    </tr>\n",
       "    <tr>\n",
       "      <th>4</th>\n",
       "      <td>2139018</td>\n",
       "    </tr>\n",
       "    <tr>\n",
       "      <th>5</th>\n",
       "      <td>1983093</td>\n",
       "    </tr>\n",
       "  </tbody>\n",
       "</table>\n",
       "</div>"
      ],
      "text/plain": [
       "          count\n",
       "rating         \n",
       "1        124195\n",
       "2        359257\n",
       "3       1370916\n",
       "4       2139018\n",
       "5       1983093"
      ]
     },
     "execution_count": 5,
     "metadata": {},
     "output_type": "execute_result"
    }
   ],
   "source": [
    "df_ratings_cnt_tmp = pd.DataFrame(df_ratings.groupby('rating').size(), columns=['count'])\n",
    "df_ratings_cnt_tmp"
   ]
  },
  {
   "cell_type": "code",
   "execution_count": 6,
   "id": "mathematical-paint",
   "metadata": {},
   "outputs": [
    {
     "data": {
      "text/html": [
       "<div>\n",
       "<style scoped>\n",
       "    .dataframe tbody tr th:only-of-type {\n",
       "        vertical-align: middle;\n",
       "    }\n",
       "\n",
       "    .dataframe tbody tr th {\n",
       "        vertical-align: top;\n",
       "    }\n",
       "\n",
       "    .dataframe thead th {\n",
       "        text-align: right;\n",
       "    }\n",
       "</style>\n",
       "<table border=\"1\" class=\"dataframe\">\n",
       "  <thead>\n",
       "    <tr style=\"text-align: right;\">\n",
       "      <th></th>\n",
       "      <th>count</th>\n",
       "    </tr>\n",
       "  </thead>\n",
       "  <tbody>\n",
       "    <tr>\n",
       "      <th>0.0</th>\n",
       "      <td>528263521</td>\n",
       "    </tr>\n",
       "    <tr>\n",
       "      <th>1.0</th>\n",
       "      <td>124195</td>\n",
       "    </tr>\n",
       "    <tr>\n",
       "      <th>2.0</th>\n",
       "      <td>359257</td>\n",
       "    </tr>\n",
       "    <tr>\n",
       "      <th>3.0</th>\n",
       "      <td>1370916</td>\n",
       "    </tr>\n",
       "    <tr>\n",
       "      <th>4.0</th>\n",
       "      <td>2139018</td>\n",
       "    </tr>\n",
       "    <tr>\n",
       "      <th>5.0</th>\n",
       "      <td>1983093</td>\n",
       "    </tr>\n",
       "  </tbody>\n",
       "</table>\n",
       "</div>"
      ],
      "text/plain": [
       "         count\n",
       "0.0  528263521\n",
       "1.0     124195\n",
       "2.0     359257\n",
       "3.0    1370916\n",
       "4.0    2139018\n",
       "5.0    1983093"
      ]
     },
     "execution_count": 6,
     "metadata": {},
     "output_type": "execute_result"
    }
   ],
   "source": [
    "# there are a lot more counts in rating of zero\n",
    "total_cnt = num_users * num_items\n",
    "rating_zero_cnt = total_cnt - df_ratings.shape[0]\n",
    "# append counts of zero rating to df_ratings_cnt\n",
    "df_ratings_cnt = df_ratings_cnt_tmp.append(\n",
    "    pd.DataFrame({'count': rating_zero_cnt}, index=[0.0]),\n",
    "    verify_integrity=True,\n",
    ").sort_index()\n",
    "df_ratings_cnt"
   ]
  },
  {
   "cell_type": "code",
   "execution_count": 7,
   "id": "polish-fitness",
   "metadata": {},
   "outputs": [
    {
     "data": {
      "text/html": [
       "<div>\n",
       "<style scoped>\n",
       "    .dataframe tbody tr th:only-of-type {\n",
       "        vertical-align: middle;\n",
       "    }\n",
       "\n",
       "    .dataframe tbody tr th {\n",
       "        vertical-align: top;\n",
       "    }\n",
       "\n",
       "    .dataframe thead th {\n",
       "        text-align: right;\n",
       "    }\n",
       "</style>\n",
       "<table border=\"1\" class=\"dataframe\">\n",
       "  <thead>\n",
       "    <tr style=\"text-align: right;\">\n",
       "      <th></th>\n",
       "      <th>count</th>\n",
       "      <th>log_count</th>\n",
       "    </tr>\n",
       "  </thead>\n",
       "  <tbody>\n",
       "    <tr>\n",
       "      <th>0.0</th>\n",
       "      <td>528263521</td>\n",
       "      <td>20.085106</td>\n",
       "    </tr>\n",
       "    <tr>\n",
       "      <th>1.0</th>\n",
       "      <td>124195</td>\n",
       "      <td>11.729608</td>\n",
       "    </tr>\n",
       "    <tr>\n",
       "      <th>2.0</th>\n",
       "      <td>359257</td>\n",
       "      <td>12.791793</td>\n",
       "    </tr>\n",
       "    <tr>\n",
       "      <th>3.0</th>\n",
       "      <td>1370916</td>\n",
       "      <td>14.130990</td>\n",
       "    </tr>\n",
       "    <tr>\n",
       "      <th>4.0</th>\n",
       "      <td>2139018</td>\n",
       "      <td>14.575857</td>\n",
       "    </tr>\n",
       "    <tr>\n",
       "      <th>5.0</th>\n",
       "      <td>1983093</td>\n",
       "      <td>14.500168</td>\n",
       "    </tr>\n",
       "  </tbody>\n",
       "</table>\n",
       "</div>"
      ],
      "text/plain": [
       "         count  log_count\n",
       "0.0  528263521  20.085106\n",
       "1.0     124195  11.729608\n",
       "2.0     359257  12.791793\n",
       "3.0    1370916  14.130990\n",
       "4.0    2139018  14.575857\n",
       "5.0    1983093  14.500168"
      ]
     },
     "execution_count": 7,
     "metadata": {},
     "output_type": "execute_result"
    }
   ],
   "source": [
    "# add log count\n",
    "df_ratings_cnt['log_count'] = np.log(df_ratings_cnt['count'])\n",
    "df_ratings_cnt"
   ]
  },
  {
   "cell_type": "code",
   "execution_count": 8,
   "id": "saving-convert",
   "metadata": {},
   "outputs": [
    {
     "name": "stdout",
     "output_type": "stream",
     "text": [
      "shape of original ratings data:  (5976479, 3)\n",
      "shape of ratings data after dropping unpopular books:  (5707246, 3)\n",
      "Number of popular book 7698\n"
     ]
    }
   ],
   "source": [
    "# filter data\n",
    "popularity_thres = 150\n",
    "popular_books = list(set(df_books_cnt.query('count >= @popularity_thres').index))\n",
    "df_ratings_drop_books = df_ratings[df_ratings.book_id.isin(popular_books)]\n",
    "print('shape of original ratings data: ', df_ratings.shape)\n",
    "print('shape of ratings data after dropping unpopular books: ', df_ratings_drop_books.shape)\n",
    "print('Number of popular book', len(popular_books))"
   ]
  },
  {
   "cell_type": "code",
   "execution_count": 9,
   "id": "about-explorer",
   "metadata": {},
   "outputs": [
    {
     "data": {
      "text/html": [
       "<div>\n",
       "<style scoped>\n",
       "    .dataframe tbody tr th:only-of-type {\n",
       "        vertical-align: middle;\n",
       "    }\n",
       "\n",
       "    .dataframe tbody tr th {\n",
       "        vertical-align: top;\n",
       "    }\n",
       "\n",
       "    .dataframe thead th {\n",
       "        text-align: right;\n",
       "    }\n",
       "</style>\n",
       "<table border=\"1\" class=\"dataframe\">\n",
       "  <thead>\n",
       "    <tr style=\"text-align: right;\">\n",
       "      <th></th>\n",
       "      <th>count</th>\n",
       "    </tr>\n",
       "    <tr>\n",
       "      <th>user_id</th>\n",
       "      <th></th>\n",
       "    </tr>\n",
       "  </thead>\n",
       "  <tbody>\n",
       "    <tr>\n",
       "      <th>1</th>\n",
       "      <td>117</td>\n",
       "    </tr>\n",
       "    <tr>\n",
       "      <th>2</th>\n",
       "      <td>55</td>\n",
       "    </tr>\n",
       "    <tr>\n",
       "      <th>3</th>\n",
       "      <td>84</td>\n",
       "    </tr>\n",
       "    <tr>\n",
       "      <th>4</th>\n",
       "      <td>133</td>\n",
       "    </tr>\n",
       "    <tr>\n",
       "      <th>5</th>\n",
       "      <td>95</td>\n",
       "    </tr>\n",
       "  </tbody>\n",
       "</table>\n",
       "</div>"
      ],
      "text/plain": [
       "         count\n",
       "user_id       \n",
       "1          117\n",
       "2           55\n",
       "3           84\n",
       "4          133\n",
       "5           95"
      ]
     },
     "execution_count": 9,
     "metadata": {},
     "output_type": "execute_result"
    }
   ],
   "source": [
    "# get number of ratings given by every user\n",
    "df_users_cnt = pd.DataFrame(df_ratings_drop_books.groupby('user_id').size(), columns=['count'])\n",
    "df_users_cnt.head()"
   ]
  },
  {
   "cell_type": "code",
   "execution_count": 10,
   "id": "liberal-adaptation",
   "metadata": {},
   "outputs": [
    {
     "name": "stdout",
     "output_type": "stream",
     "text": [
      "shape of original ratings data:  (5976479, 3)\n",
      "shape of ratings data after dropping both unpopular movies and inactive users:  (3117897, 3)\n",
      "number of active user:  23892\n"
     ]
    }
   ],
   "source": [
    "# filter data\n",
    "ratings_thres = 110\n",
    "active_users = list(set(df_users_cnt.query('count >= @ratings_thres').index))\n",
    "df_ratings_drop_users = df_ratings_drop_books[df_ratings_drop_books.user_id.isin(active_users)]\n",
    "print('shape of original ratings data: ', df_ratings.shape)\n",
    "print('shape of ratings data after dropping both unpopular movies and inactive users: ', df_ratings_drop_users.shape)\n",
    "print('number of active user: ', len(active_users))"
   ]
  },
  {
   "cell_type": "code",
   "execution_count": 11,
   "id": "civil-exhibit",
   "metadata": {},
   "outputs": [],
   "source": [
    "# pivot and create book-user matrix\n",
    "book_user_mat = df_ratings_drop_users.pivot(index='book_id', columns='user_id', values='rating')\n",
    "book_user_mat_standardized = (book_user_mat - np.mean(book_user_mat, axis=0)).fillna(0)\n",
    "book_user_mat_bool = ~np.isnan(book_user_mat)\n",
    "del book_user_mat"
   ]
  },
  {
   "cell_type": "code",
   "execution_count": 12,
   "id": "beautiful-explorer",
   "metadata": {},
   "outputs": [],
   "source": [
    "# convert to sparse matrix\n",
    "book_user_mat_sparse = csr_matrix(book_user_mat_standardized.values)\n",
    "book_user_mat_bool_sparse = csr_matrix(book_user_mat_bool.values)\n",
    "del book_user_mat_standardized\n",
    "del book_user_mat_bool"
   ]
  },
  {
   "cell_type": "code",
   "execution_count": 13,
   "id": "three-prescription",
   "metadata": {},
   "outputs": [],
   "source": [
    "# square the matrix for weight calculation\n",
    "x_squared = book_user_mat_sparse.power(2)"
   ]
  },
  {
   "cell_type": "code",
   "execution_count": 14,
   "id": "adolescent-scout",
   "metadata": {},
   "outputs": [],
   "source": [
    "# only take the value where rating is not nan for weight calculation\n",
    "weight_left = x_squared.dot(book_user_mat_bool_sparse.T)\n",
    "del x_squared"
   ]
  },
  {
   "cell_type": "code",
   "execution_count": 15,
   "id": "inside-artwork",
   "metadata": {},
   "outputs": [],
   "source": [
    "# calculate weight matrix\n",
    "weight_left = weight_left.toarray()\n",
    "weight = np.sqrt(weight_left*weight_left.T)\n",
    "del weight_left"
   ]
  },
  {
   "cell_type": "code",
   "execution_count": 16,
   "id": "abroad-samuel",
   "metadata": {},
   "outputs": [],
   "source": [
    "ADJUST_THRESHOLD = 15\n",
    "\n",
    "# calculate the adjust matrix\n",
    "confidence_matrix = np.dot(book_user_mat_bool_sparse, book_user_mat_bool_sparse.T.astype(int))\n",
    "adjusted_matrix = confidence_matrix / ADJUST_THRESHOLD\n",
    "adjusted_matrix[adjusted_matrix > 1] = 1\n",
    "adjusted_matrix = adjusted_matrix.toarray()\n",
    "del confidence_matrix\n",
    "del book_user_mat_bool_sparse"
   ]
  },
  {
   "cell_type": "code",
   "execution_count": 17,
   "id": "liked-weapon",
   "metadata": {},
   "outputs": [],
   "source": [
    "# calculate product matrix\n",
    "prod = book_user_mat_sparse.dot(book_user_mat_sparse.T)\n",
    "prod = prod.toarray()"
   ]
  },
  {
   "cell_type": "code",
   "execution_count": 18,
   "id": "spare-composite",
   "metadata": {},
   "outputs": [
    {
     "name": "stderr",
     "output_type": "stream",
     "text": [
      "<ipython-input-18-226adb145dac>:2: RuntimeWarning: invalid value encountered in true_divide\n",
      "  similarity_matrix = (prod/weight) * adjusted_matrix\n"
     ]
    }
   ],
   "source": [
    "# calculate similarity matrix\n",
    "similarity_matrix = (prod/weight) * adjusted_matrix\n",
    "del prod\n",
    "del weight\n",
    "del adjusted_matrix"
   ]
  },
  {
   "cell_type": "code",
   "execution_count": 19,
   "id": "neutral-enough",
   "metadata": {},
   "outputs": [],
   "source": [
    "# replace invalid value with -1\n",
    "similarity_matrix[np.isnan(similarity_matrix)] = -1\n",
    "\n",
    "# replace similarities larger than 1 with 1\n",
    "similarity_matrix[(similarity_matrix > 1) & (similarity_matrix < 1.01)] = 0\n",
    "\n",
    "# distance\n",
    "distance_matrix = 1 - similarity_matrix"
   ]
  },
  {
   "cell_type": "code",
   "execution_count": 20,
   "id": "diverse-residence",
   "metadata": {},
   "outputs": [
    {
     "data": {
      "text/plain": [
       "array([[0.        , 0.59723035, 1.06924055, ..., 1.25853958, 1.2517489 ,\n",
       "        1.06381259],\n",
       "       [0.59723035, 0.        , 1.27246855, ..., 1.26544528, 0.77519131,\n",
       "        1.01558694],\n",
       "       [1.06924055, 1.27246855, 0.        , ..., 1.22700853, 0.6278526 ,\n",
       "        0.65446889],\n",
       "       ...,\n",
       "       [1.25853958, 1.26544528, 1.22700853, ..., 0.        , 2.        ,\n",
       "        2.        ],\n",
       "       [1.2517489 , 0.77519131, 0.6278526 , ..., 2.        , 0.        ,\n",
       "        1.06666667],\n",
       "       [1.06381259, 1.01558694, 0.65446889, ..., 2.        , 1.06666667,\n",
       "        0.        ]])"
      ]
     },
     "execution_count": 20,
     "metadata": {},
     "output_type": "execute_result"
    }
   ],
   "source": [
    "distance_matrix"
   ]
  },
  {
   "cell_type": "code",
   "execution_count": 21,
   "id": "reverse-works",
   "metadata": {},
   "outputs": [],
   "source": [
    "# create mapper from book title to index\n",
    "# book_to_idx = {\n",
    "#     book: i for i, book in \n",
    "#     enumerate(list(df_books.set_index('book_id').loc[book_user_mat_standardized.index].title))\n",
    "# }\n",
    "# transform matrix to scipy sparse matrix\n",
    "#book_user_mat_sparse = csr_matrix(book_user_mat.values)"
   ]
  },
  {
   "cell_type": "code",
   "execution_count": 22,
   "id": "handmade-butterfly",
   "metadata": {},
   "outputs": [
    {
     "name": "stdout",
     "output_type": "stream",
     "text": [
      "env: JOBLIB_TEMP_FOLDER=/tmp\n"
     ]
    },
    {
     "data": {
      "text/plain": [
       "NearestNeighbors(algorithm='brute', metric='precomputed', n_jobs=-1,\n",
       "                 n_neighbors=7689)"
      ]
     },
     "execution_count": 22,
     "metadata": {},
     "output_type": "execute_result"
    }
   ],
   "source": [
    "%env JOBLIB_TEMP_FOLDER=/tmp\n",
    "# define model\n",
    "model_knn = NearestNeighbors(metric='precomputed', algorithm='brute', n_neighbors=distance_matrix.shape[0], n_jobs=-1)\n",
    "# fit\n",
    "model_knn.fit(distance_matrix)"
   ]
  },
  {
   "cell_type": "code",
   "execution_count": 23,
   "id": "national-metallic",
   "metadata": {},
   "outputs": [],
   "source": [
    "distances, indices = model_knn.kneighbors(distance_matrix, n_neighbors=distance_matrix.shape[0])"
   ]
  },
  {
   "cell_type": "code",
   "execution_count": 24,
   "id": "guilty-christianity",
   "metadata": {},
   "outputs": [
    {
     "data": {
      "text/plain": [
       "array([[0.        , 0.25505275, 0.29916935, ..., 2.        , 2.        ,\n",
       "        2.        ],\n",
       "       [0.        , 0.10321537, 0.1576765 , ..., 2.        , 2.        ,\n",
       "        2.        ],\n",
       "       [0.        , 0.11650387, 0.14389397, ..., 2.        , 2.        ,\n",
       "        2.        ],\n",
       "       ...,\n",
       "       [0.        , 0.26666667, 0.29675243, ..., 2.        , 2.        ,\n",
       "        2.        ],\n",
       "       [0.        , 0.20112675, 0.33541924, ..., 2.        , 2.        ,\n",
       "        2.        ],\n",
       "       [0.        , 0.35231291, 0.3688868 , ..., 2.        , 2.        ,\n",
       "        2.        ]])"
      ]
     },
     "execution_count": 24,
     "metadata": {},
     "output_type": "execute_result"
    }
   ],
   "source": [
    "distances"
   ]
  },
  {
   "cell_type": "code",
   "execution_count": 25,
   "id": "marked-assumption",
   "metadata": {},
   "outputs": [
    {
     "data": {
      "text/plain": [
       "array([[   0,  506, 1353, ..., 3240, 3214, 4951],\n",
       "       [   1, 3262, 3732, ..., 3214, 3240, 6588],\n",
       "       [   2,  991, 2016, ..., 3240, 3214, 6588],\n",
       "       ...,\n",
       "       [7686, 3188,  914, ..., 3946, 3954, 7688],\n",
       "       [7687,  184,  283, ..., 4655, 4661, 7686],\n",
       "       [7688, 1563,  729, ..., 4422, 4429, 7686]], dtype=int64)"
      ]
     },
     "execution_count": 25,
     "metadata": {},
     "output_type": "execute_result"
    }
   ],
   "source": [
    "indices"
   ]
  },
  {
   "cell_type": "code",
   "execution_count": 28,
   "id": "weird-track",
   "metadata": {},
   "outputs": [
    {
     "name": "stdout",
     "output_type": "stream",
     "text": [
      "1026\n"
     ]
    }
   ],
   "source": [
    "count2 = 0\n",
    "for i in range(distance_matrix.shape[0]):\n",
    "    count = (distances[i] < 0.5).sum()\n",
    "    if (count < 6):\n",
    "        count2 = count2 + 1\n",
    "        \n",
    "print(count2)"
   ]
  },
  {
   "cell_type": "code",
   "execution_count": null,
   "id": "western-answer",
   "metadata": {},
   "outputs": [],
   "source": []
  }
 ],
 "metadata": {
  "kernelspec": {
   "display_name": "Python 3",
   "language": "python",
   "name": "python3"
  },
  "language_info": {
   "codemirror_mode": {
    "name": "ipython",
    "version": 3
   },
   "file_extension": ".py",
   "mimetype": "text/x-python",
   "name": "python",
   "nbconvert_exporter": "python",
   "pygments_lexer": "ipython3",
   "version": "3.8.8"
  }
 },
 "nbformat": 4,
 "nbformat_minor": 5
}
